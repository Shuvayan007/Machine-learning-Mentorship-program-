{
 "cells": [
  {
   "cell_type": "code",
   "execution_count": 18,
   "metadata": {
    "id": "q83DUAlSZymN"
   },
   "outputs": [],
   "source": [
    "import numpy as np\n",
    "import pandas as pd\n",
    "import requests"
   ]
  },
  {
   "cell_type": "code",
   "execution_count": 19,
   "metadata": {
    "id": "CQzWr4h5aEAp"
   },
   "outputs": [],
   "source": [
    "data=requests.get('https://api.themoviedb.org/3/movie/popular?api_key=55bd4b526b207cb38531d2484a816792&language=en-US&page=1').json()"
   ]
  },
  {
   "cell_type": "code",
   "execution_count": null,
   "metadata": {
    "id": "VbuxSQEMaRZj"
   },
   "outputs": [],
   "source": [
    "data['results']"
   ]
  },
  {
   "cell_type": "code",
   "execution_count": 21,
   "metadata": {
    "id": "DDsdNlura0mZ"
   },
   "outputs": [],
   "source": [
    "#Structure of data['results']\n",
    "#[{},{},{}]"
   ]
  },
  {
   "cell_type": "code",
   "execution_count": 13,
   "metadata": {
    "id": "p_t6Jhd7b5AE"
   },
   "outputs": [],
   "source": [
    "[]"
   ]
  },
  {
   "cell_type": "code",
   "execution_count": 15,
   "metadata": {
    "id": "8oEJTFyubUs0"
   },
   "outputs": [],
   "source": [
    "title=[]\n",
    "overview=[]\n",
    "release_date=[]\n",
    "vote_avg=[]\n",
    "original_language=[]\n",
    "vote_count=[]\n",
    "popularity=[]\n",
    "for i in data['results']:\n",
    "  title.append(i['title'])\n",
    "  overview.append(i['overview'])\n",
    "  release_date.append(i['release_date'])\n",
    "  vote_avg.append(i['vote_average'])\n",
    "  original_language.append(i['original_language'])\n",
    "  vote_count.append(i['vote_count'])\n",
    "  popularity.append(i['popularity'])"
   ]
  },
  {
   "cell_type": "code",
   "execution_count": 23,
   "metadata": {
    "colab": {
     "base_uri": "https://localhost:8080/",
     "height": 662
    },
    "id": "chOyRRXQbasO",
    "outputId": "76b94806-e672-429a-8492-dad22d5892bf"
   },
   "outputs": [
    {
     "data": {
      "text/html": [
       "<div>\n",
       "<style scoped>\n",
       "    .dataframe tbody tr th:only-of-type {\n",
       "        vertical-align: middle;\n",
       "    }\n",
       "\n",
       "    .dataframe tbody tr th {\n",
       "        vertical-align: top;\n",
       "    }\n",
       "\n",
       "    .dataframe thead th {\n",
       "        text-align: right;\n",
       "    }\n",
       "</style>\n",
       "<table border=\"1\" class=\"dataframe\">\n",
       "  <thead>\n",
       "    <tr style=\"text-align: right;\">\n",
       "      <th></th>\n",
       "      <th>title</th>\n",
       "      <th>overview</th>\n",
       "      <th>release_date</th>\n",
       "      <th>vote_avg</th>\n",
       "      <th>original_language</th>\n",
       "      <th>vote_count</th>\n",
       "      <th>popularity</th>\n",
       "    </tr>\n",
       "  </thead>\n",
       "  <tbody>\n",
       "    <tr>\n",
       "      <th>0</th>\n",
       "      <td>Welcome to Sudden Death</td>\n",
       "      <td>Jesse Freeman is a former special forces offic...</td>\n",
       "      <td>2020-09-29</td>\n",
       "      <td>7.0</td>\n",
       "      <td>en</td>\n",
       "      <td>77</td>\n",
       "      <td>2535.744</td>\n",
       "    </tr>\n",
       "    <tr>\n",
       "      <th>1</th>\n",
       "      <td>Enola Holmes</td>\n",
       "      <td>While searching for her missing mother, intrep...</td>\n",
       "      <td>2020-09-23</td>\n",
       "      <td>7.6</td>\n",
       "      <td>en</td>\n",
       "      <td>1863</td>\n",
       "      <td>1865.398</td>\n",
       "    </tr>\n",
       "    <tr>\n",
       "      <th>2</th>\n",
       "      <td>Mulan</td>\n",
       "      <td>When the Emperor of China issues a decree that...</td>\n",
       "      <td>2020-09-04</td>\n",
       "      <td>7.3</td>\n",
       "      <td>en</td>\n",
       "      <td>2388</td>\n",
       "      <td>1286.045</td>\n",
       "    </tr>\n",
       "    <tr>\n",
       "      <th>3</th>\n",
       "      <td>The Innocence</td>\n",
       "      <td>Lis is a teenager whose dream is to become a c...</td>\n",
       "      <td>2020-01-10</td>\n",
       "      <td>6.4</td>\n",
       "      <td>ca</td>\n",
       "      <td>42</td>\n",
       "      <td>1254.592</td>\n",
       "    </tr>\n",
       "    <tr>\n",
       "      <th>4</th>\n",
       "      <td>Hard Kill</td>\n",
       "      <td>The work of billionaire tech CEO Donovan Chalm...</td>\n",
       "      <td>2020-08-25</td>\n",
       "      <td>4.7</td>\n",
       "      <td>en</td>\n",
       "      <td>132</td>\n",
       "      <td>1242.901</td>\n",
       "    </tr>\n",
       "    <tr>\n",
       "      <th>5</th>\n",
       "      <td>Money Plane</td>\n",
       "      <td>A professional thief with $40 million in debt ...</td>\n",
       "      <td>2020-09-29</td>\n",
       "      <td>6.1</td>\n",
       "      <td>en</td>\n",
       "      <td>126</td>\n",
       "      <td>1222.209</td>\n",
       "    </tr>\n",
       "    <tr>\n",
       "      <th>6</th>\n",
       "      <td>Beckman</td>\n",
       "      <td>A contract killer, becomes the reverend of a L...</td>\n",
       "      <td>2020-09-10</td>\n",
       "      <td>6.7</td>\n",
       "      <td>en</td>\n",
       "      <td>3</td>\n",
       "      <td>1069.129</td>\n",
       "    </tr>\n",
       "    <tr>\n",
       "      <th>7</th>\n",
       "      <td>Ava</td>\n",
       "      <td>A black ops assassin is forced to fight for he...</td>\n",
       "      <td>2020-07-02</td>\n",
       "      <td>5.9</td>\n",
       "      <td>en</td>\n",
       "      <td>458</td>\n",
       "      <td>1039.787</td>\n",
       "    </tr>\n",
       "    <tr>\n",
       "      <th>8</th>\n",
       "      <td>Rogue</td>\n",
       "      <td>Battle-hardened O’Hara leads a lively mercenar...</td>\n",
       "      <td>2020-08-20</td>\n",
       "      <td>5.9</td>\n",
       "      <td>en</td>\n",
       "      <td>298</td>\n",
       "      <td>971.422</td>\n",
       "    </tr>\n",
       "    <tr>\n",
       "      <th>9</th>\n",
       "      <td>Secret Society of Second Born Royals</td>\n",
       "      <td>Sam is a teenage royal rebel, second in line t...</td>\n",
       "      <td>2020-09-25</td>\n",
       "      <td>7.1</td>\n",
       "      <td>en</td>\n",
       "      <td>143</td>\n",
       "      <td>932.616</td>\n",
       "    </tr>\n",
       "    <tr>\n",
       "      <th>10</th>\n",
       "      <td>Peninsula</td>\n",
       "      <td>A soldier and his team battle hordes of post-a...</td>\n",
       "      <td>2020-07-15</td>\n",
       "      <td>7.1</td>\n",
       "      <td>ko</td>\n",
       "      <td>593</td>\n",
       "      <td>924.687</td>\n",
       "    </tr>\n",
       "    <tr>\n",
       "      <th>11</th>\n",
       "      <td>Santana</td>\n",
       "      <td>Two brothers — one a narcotics agent and the o...</td>\n",
       "      <td>2020-08-28</td>\n",
       "      <td>5.5</td>\n",
       "      <td>en</td>\n",
       "      <td>134</td>\n",
       "      <td>916.057</td>\n",
       "    </tr>\n",
       "    <tr>\n",
       "      <th>12</th>\n",
       "      <td>Unknown Origins</td>\n",
       "      <td>In Madrid, Spain, a mysterious serial killer r...</td>\n",
       "      <td>2020-08-28</td>\n",
       "      <td>6.2</td>\n",
       "      <td>es</td>\n",
       "      <td>209</td>\n",
       "      <td>793.549</td>\n",
       "    </tr>\n",
       "    <tr>\n",
       "      <th>13</th>\n",
       "      <td>Cats &amp; Dogs 3: Paws Unite</td>\n",
       "      <td>It's been ten years since the creation of the ...</td>\n",
       "      <td>2020-10-02</td>\n",
       "      <td>6.6</td>\n",
       "      <td>en</td>\n",
       "      <td>59</td>\n",
       "      <td>773.578</td>\n",
       "    </tr>\n",
       "    <tr>\n",
       "      <th>14</th>\n",
       "      <td>American Pie Presents: Girls Rules</td>\n",
       "      <td>It's Senior year at East Great Falls. Annie, K...</td>\n",
       "      <td>2020-10-06</td>\n",
       "      <td>6.3</td>\n",
       "      <td>en</td>\n",
       "      <td>47</td>\n",
       "      <td>768.706</td>\n",
       "    </tr>\n",
       "    <tr>\n",
       "      <th>15</th>\n",
       "      <td>Archive</td>\n",
       "      <td>2038: George Almore is working on a true human...</td>\n",
       "      <td>2020-08-13</td>\n",
       "      <td>5.6</td>\n",
       "      <td>en</td>\n",
       "      <td>121</td>\n",
       "      <td>669.075</td>\n",
       "    </tr>\n",
       "    <tr>\n",
       "      <th>16</th>\n",
       "      <td>One Night in Bangkok</td>\n",
       "      <td>A hit man named Kai flies into Bangkok, gets a...</td>\n",
       "      <td>2020-08-25</td>\n",
       "      <td>7.2</td>\n",
       "      <td>en</td>\n",
       "      <td>104</td>\n",
       "      <td>611.181</td>\n",
       "    </tr>\n",
       "    <tr>\n",
       "      <th>17</th>\n",
       "      <td>The Binding</td>\n",
       "      <td>While visiting her fiancé's mother in southern...</td>\n",
       "      <td>2020-10-02</td>\n",
       "      <td>5.5</td>\n",
       "      <td>it</td>\n",
       "      <td>71</td>\n",
       "      <td>606.709</td>\n",
       "    </tr>\n",
       "    <tr>\n",
       "      <th>18</th>\n",
       "      <td>Project Power</td>\n",
       "      <td>An ex-soldier, a teen and a cop collide in New...</td>\n",
       "      <td>2020-08-14</td>\n",
       "      <td>6.6</td>\n",
       "      <td>en</td>\n",
       "      <td>1408</td>\n",
       "      <td>570.759</td>\n",
       "    </tr>\n",
       "    <tr>\n",
       "      <th>19</th>\n",
       "      <td>2067</td>\n",
       "      <td>A lowly utility worker is called to the future...</td>\n",
       "      <td>2020-10-01</td>\n",
       "      <td>6.0</td>\n",
       "      <td>en</td>\n",
       "      <td>76</td>\n",
       "      <td>564.866</td>\n",
       "    </tr>\n",
       "  </tbody>\n",
       "</table>\n",
       "</div>"
      ],
      "text/plain": [
       "                                   title  ... popularity\n",
       "0                Welcome to Sudden Death  ...   2535.744\n",
       "1                           Enola Holmes  ...   1865.398\n",
       "2                                  Mulan  ...   1286.045\n",
       "3                          The Innocence  ...   1254.592\n",
       "4                              Hard Kill  ...   1242.901\n",
       "5                            Money Plane  ...   1222.209\n",
       "6                                Beckman  ...   1069.129\n",
       "7                                    Ava  ...   1039.787\n",
       "8                                  Rogue  ...    971.422\n",
       "9   Secret Society of Second Born Royals  ...    932.616\n",
       "10                             Peninsula  ...    924.687\n",
       "11                               Santana  ...    916.057\n",
       "12                       Unknown Origins  ...    793.549\n",
       "13             Cats & Dogs 3: Paws Unite  ...    773.578\n",
       "14    American Pie Presents: Girls Rules  ...    768.706\n",
       "15                               Archive  ...    669.075\n",
       "16                  One Night in Bangkok  ...    611.181\n",
       "17                           The Binding  ...    606.709\n",
       "18                         Project Power  ...    570.759\n",
       "19                                  2067  ...    564.866\n",
       "\n",
       "[20 rows x 7 columns]"
      ]
     },
     "execution_count": 23,
     "metadata": {
      "tags": []
     },
     "output_type": "execute_result"
    }
   ],
   "source": [
    "pd.DataFrame({\n",
    " 'title':title,\n",
    " 'overview':overview,\n",
    " 'release_date':release_date,\n",
    " 'vote_avg':vote_avg,\n",
    " 'original_language':original_language,\n",
    " 'vote_count':vote_count,\n",
    " 'popularity':popularity\n",
    "})"
   ]
  },
  {
   "cell_type": "code",
   "execution_count": 58,
   "metadata": {
    "id": "tQmjNeCfkV5D"
   },
   "outputs": [],
   "source": [
    "df=pd.DataFrame()\n",
    "for j in range (1,501):\n",
    "\n",
    "  data=requests.get('https://api.themoviedb.org/3/movie/popular?api_key=55bd4b526b207cb38531d2484a816792&language=en-US&page={}'.format(j)).json()\n",
    "\n",
    "  title=[]\n",
    "  overview=[]\n",
    "  release_date=[]\n",
    "  vote_avg=[]\n",
    "  original_language=[]\n",
    "  vote_count=[]\n",
    "  popularity=[]\n",
    "\n",
    "  for i in data['results']:\n",
    "    \n",
    "    try:\n",
    "      title.append(i['title'])\n",
    "    except:\n",
    "      title.append(np.nan)\n",
    "    try:\n",
    "      overview.append(i['overview'])\n",
    "    except:\n",
    "      overview.append(np.nan)\n",
    "    try:\n",
    "      release_date.append(i['release_date'])\n",
    "    except:\n",
    "      release_date.append(np.nan)\n",
    "    try:\n",
    "      vote_avg.append(i['vote_average'])\n",
    "    except:\n",
    "      vote_avg.append(np.nan)\n",
    "    try:\n",
    "      original_language.append(i['original_language'])\n",
    "    except:\n",
    "      original_language.append(np.nan)\n",
    "    try:\n",
    "      vote_count.append(i['vote_count'])\n",
    "    except:\n",
    "      vote_count.append(np.nan)\n",
    "    try:\n",
    "      popularity.append(i['popularity'])\n",
    "    except:\n",
    "      popularity.append(np.nan)\n",
    "\n",
    "  temp_df=pd.DataFrame({\n",
    "    'title':title,\n",
    "    'overview':overview,\n",
    "    'release_date':release_date,\n",
    "    'vote_avg':vote_avg,\n",
    "    'original_language':original_language,\n",
    "    'vote_count':vote_count,\n",
    "    'popularity':popularity\n",
    "    })\n",
    "  \n",
    "  df=df.append(temp_df,ignore_index=True)"
   ]
  },
  {
   "cell_type": "code",
   "execution_count": 46,
   "metadata": {
    "colab": {
     "base_uri": "https://localhost:8080/",
     "height": 202
    },
    "id": "kt7wfE4Ingvt",
    "outputId": "56fe2ee2-20c7-4cb7-934c-eb232b5b878f"
   },
   "outputs": [
    {
     "data": {
      "text/html": [
       "<div>\n",
       "<style scoped>\n",
       "    .dataframe tbody tr th:only-of-type {\n",
       "        vertical-align: middle;\n",
       "    }\n",
       "\n",
       "    .dataframe tbody tr th {\n",
       "        vertical-align: top;\n",
       "    }\n",
       "\n",
       "    .dataframe thead th {\n",
       "        text-align: right;\n",
       "    }\n",
       "</style>\n",
       "<table border=\"1\" class=\"dataframe\">\n",
       "  <thead>\n",
       "    <tr style=\"text-align: right;\">\n",
       "      <th></th>\n",
       "      <th>title</th>\n",
       "      <th>overview</th>\n",
       "      <th>release_date</th>\n",
       "      <th>vote_avg</th>\n",
       "      <th>original_language</th>\n",
       "      <th>vote_count</th>\n",
       "      <th>popularity</th>\n",
       "    </tr>\n",
       "  </thead>\n",
       "  <tbody>\n",
       "    <tr>\n",
       "      <th>0</th>\n",
       "      <td>Welcome to Sudden Death</td>\n",
       "      <td>Jesse Freeman is a former special forces offic...</td>\n",
       "      <td>2020-09-29</td>\n",
       "      <td>7.0</td>\n",
       "      <td>en</td>\n",
       "      <td>77</td>\n",
       "      <td>2535.744</td>\n",
       "    </tr>\n",
       "    <tr>\n",
       "      <th>1</th>\n",
       "      <td>Enola Holmes</td>\n",
       "      <td>While searching for her missing mother, intrep...</td>\n",
       "      <td>2020-09-23</td>\n",
       "      <td>7.6</td>\n",
       "      <td>en</td>\n",
       "      <td>1863</td>\n",
       "      <td>1865.398</td>\n",
       "    </tr>\n",
       "    <tr>\n",
       "      <th>2</th>\n",
       "      <td>Mulan</td>\n",
       "      <td>When the Emperor of China issues a decree that...</td>\n",
       "      <td>2020-09-04</td>\n",
       "      <td>7.3</td>\n",
       "      <td>en</td>\n",
       "      <td>2388</td>\n",
       "      <td>1286.045</td>\n",
       "    </tr>\n",
       "    <tr>\n",
       "      <th>3</th>\n",
       "      <td>The Innocence</td>\n",
       "      <td>Lis is a teenager whose dream is to become a c...</td>\n",
       "      <td>2020-01-10</td>\n",
       "      <td>6.4</td>\n",
       "      <td>ca</td>\n",
       "      <td>42</td>\n",
       "      <td>1254.592</td>\n",
       "    </tr>\n",
       "    <tr>\n",
       "      <th>4</th>\n",
       "      <td>Hard Kill</td>\n",
       "      <td>The work of billionaire tech CEO Donovan Chalm...</td>\n",
       "      <td>2020-08-25</td>\n",
       "      <td>4.7</td>\n",
       "      <td>en</td>\n",
       "      <td>132</td>\n",
       "      <td>1242.901</td>\n",
       "    </tr>\n",
       "  </tbody>\n",
       "</table>\n",
       "</div>"
      ],
      "text/plain": [
       "                     title  ... popularity\n",
       "0  Welcome to Sudden Death  ...   2535.744\n",
       "1             Enola Holmes  ...   1865.398\n",
       "2                    Mulan  ...   1286.045\n",
       "3            The Innocence  ...   1254.592\n",
       "4                Hard Kill  ...   1242.901\n",
       "\n",
       "[5 rows x 7 columns]"
      ]
     },
     "execution_count": 46,
     "metadata": {
      "tags": []
     },
     "output_type": "execute_result"
    }
   ],
   "source": [
    "df.head()"
   ]
  },
  {
   "cell_type": "code",
   "execution_count": 59,
   "metadata": {
    "colab": {
     "base_uri": "https://localhost:8080/",
     "height": 35
    },
    "id": "dBSF-gr1nwPt",
    "outputId": "e3ed9471-4d96-49da-dac2-866d463a3e1a"
   },
   "outputs": [
    {
     "data": {
      "text/plain": [
       "(10000, 7)"
      ]
     },
     "execution_count": 59,
     "metadata": {
      "tags": []
     },
     "output_type": "execute_result"
    }
   ],
   "source": [
    "df.shape"
   ]
  },
  {
   "cell_type": "code",
   "execution_count": 56,
   "metadata": {
    "colab": {
     "base_uri": "https://localhost:8080/",
     "height": 35
    },
    "id": "pcgmC_oXnz8b",
    "outputId": "b9f24fdf-71ac-408b-d64f-9494495a33ca"
   },
   "outputs": [
    {
     "data": {
      "text/plain": [
       "0"
      ]
     },
     "execution_count": 56,
     "metadata": {
      "tags": []
     },
     "output_type": "execute_result"
    }
   ],
   "source": [
    "df.duplicated().sum()"
   ]
  },
  {
   "cell_type": "code",
   "execution_count": 60,
   "metadata": {
    "colab": {
     "base_uri": "https://localhost:8080/",
     "height": 202
    },
    "id": "MRgVXfKZvGtN",
    "outputId": "d610022d-caec-4988-97ff-5738645250ec"
   },
   "outputs": [
    {
     "data": {
      "text/html": [
       "<div>\n",
       "<style scoped>\n",
       "    .dataframe tbody tr th:only-of-type {\n",
       "        vertical-align: middle;\n",
       "    }\n",
       "\n",
       "    .dataframe tbody tr th {\n",
       "        vertical-align: top;\n",
       "    }\n",
       "\n",
       "    .dataframe thead th {\n",
       "        text-align: right;\n",
       "    }\n",
       "</style>\n",
       "<table border=\"1\" class=\"dataframe\">\n",
       "  <thead>\n",
       "    <tr style=\"text-align: right;\">\n",
       "      <th></th>\n",
       "      <th>title</th>\n",
       "      <th>overview</th>\n",
       "      <th>release_date</th>\n",
       "      <th>vote_avg</th>\n",
       "      <th>original_language</th>\n",
       "      <th>vote_count</th>\n",
       "      <th>popularity</th>\n",
       "    </tr>\n",
       "  </thead>\n",
       "  <tbody>\n",
       "    <tr>\n",
       "      <th>9995</th>\n",
       "      <td>Jack &amp; Diane</td>\n",
       "      <td>Jack and Diane, two teenage girls, meet in New...</td>\n",
       "      <td>2012-11-02</td>\n",
       "      <td>4.1</td>\n",
       "      <td>en</td>\n",
       "      <td>50</td>\n",
       "      <td>10.649</td>\n",
       "    </tr>\n",
       "    <tr>\n",
       "      <th>9996</th>\n",
       "      <td>Kiss Me Deadly</td>\n",
       "      <td>One evening, Hammer gives a ride to Christina,...</td>\n",
       "      <td>1955-04-28</td>\n",
       "      <td>7.3</td>\n",
       "      <td>en</td>\n",
       "      <td>200</td>\n",
       "      <td>10.649</td>\n",
       "    </tr>\n",
       "    <tr>\n",
       "      <th>9997</th>\n",
       "      <td>Syriana</td>\n",
       "      <td>The Middle Eastern oil industry is the backdro...</td>\n",
       "      <td>2005-11-23</td>\n",
       "      <td>6.4</td>\n",
       "      <td>en</td>\n",
       "      <td>885</td>\n",
       "      <td>10.649</td>\n",
       "    </tr>\n",
       "    <tr>\n",
       "      <th>9998</th>\n",
       "      <td>Trespass Against Us</td>\n",
       "      <td>Three generations of the rowdy Cutler family l...</td>\n",
       "      <td>2016-10-14</td>\n",
       "      <td>5.9</td>\n",
       "      <td>en</td>\n",
       "      <td>220</td>\n",
       "      <td>10.648</td>\n",
       "    </tr>\n",
       "    <tr>\n",
       "      <th>9999</th>\n",
       "      <td>Ana's Desire</td>\n",
       "      <td>Ana and her son Mateo live in a middle class a...</td>\n",
       "      <td>2019-10-18</td>\n",
       "      <td>6.6</td>\n",
       "      <td>es</td>\n",
       "      <td>24</td>\n",
       "      <td>10.646</td>\n",
       "    </tr>\n",
       "  </tbody>\n",
       "</table>\n",
       "</div>"
      ],
      "text/plain": [
       "                    title  ... popularity\n",
       "9995         Jack & Diane  ...     10.649\n",
       "9996       Kiss Me Deadly  ...     10.649\n",
       "9997              Syriana  ...     10.649\n",
       "9998  Trespass Against Us  ...     10.648\n",
       "9999         Ana's Desire  ...     10.646\n",
       "\n",
       "[5 rows x 7 columns]"
      ]
     },
     "execution_count": 60,
     "metadata": {
      "tags": []
     },
     "output_type": "execute_result"
    }
   ],
   "source": [
    "df.tail()"
   ]
  },
  {
   "cell_type": "code",
   "execution_count": 61,
   "metadata": {
    "id": "fVm0zHtiv7tQ"
   },
   "outputs": [],
   "source": [
    "df.to_csv('TMDB_movies.csv')"
   ]
  },
  {
   "cell_type": "code",
   "execution_count": null,
   "metadata": {
    "id": "333abaun1NCs"
   },
   "outputs": [],
   "source": [
    ""
   ]
  }
 ],
 "metadata": {
  "colab": {
   "name": "API_to _dataframe_demo.ipynb",
   "provenance": []
  },
  "kernelspec": {
   "display_name": "Python 3",
   "name": "python3"
  }
 },
 "nbformat": 4,
 "nbformat_minor": 0
}
