{
 "cells": [
  {
   "cell_type": "code",
   "execution_count": 1,
   "metadata": {},
   "outputs": [
    {
     "name": "stdout",
     "output_type": "stream",
     "text": [
      "Collecting plotly\n",
      "  Downloading plotly-4.11.0-py2.py3-none-any.whl (13.1 MB)\n",
      "Requirement already satisfied: six in c:\\users\\shuva\\anaconda3\\lib\\site-packages (from plotly) (1.15.0)\n",
      "Collecting retrying>=1.3.3\n",
      "  Downloading retrying-1.3.3.tar.gz (10 kB)\n",
      "Building wheels for collected packages: retrying\n",
      "  Building wheel for retrying (setup.py): started\n",
      "  Building wheel for retrying (setup.py): finished with status 'done'\n",
      "  Created wheel for retrying: filename=retrying-1.3.3-py3-none-any.whl size=11435 sha256=19a9006345031d95a1562335e85047cb2eac5ac906901653ff6debb359ca6f28\n",
      "  Stored in directory: c:\\users\\shuva\\appdata\\local\\pip\\cache\\wheels\\f9\\8d\\8d\\f6af3f7f9eea3553bc2fe6d53e4b287dad18b06a861ac56ddf\n",
      "Successfully built retrying\n",
      "Installing collected packages: retrying, plotly\n",
      "Successfully installed plotly-4.11.0 retrying-1.3.3\n"
     ]
    }
   ],
   "source": [
    "!pip install plotly"
   ]
  },
  {
   "cell_type": "code",
   "execution_count": 2,
   "metadata": {},
   "outputs": [],
   "source": [
    "import numpy as np\n",
    "import pandas as pd\n",
    "import seaborn as sns \n",
    "import plotly.offline as pyo\n",
    "import plotly.graph_objs as go"
   ]
  },
  {
   "cell_type": "code",
   "execution_count": 3,
   "metadata": {},
   "outputs": [],
   "source": [
    "#Scatterplot\n",
    "#Numerical vs Numerical\n",
    "\n",
    "tips=sns.load_dataset('tips')"
   ]
  },
  {
   "cell_type": "code",
   "execution_count": 4,
   "metadata": {},
   "outputs": [
    {
     "data": {
      "text/html": [
       "<div>\n",
       "<style scoped>\n",
       "    .dataframe tbody tr th:only-of-type {\n",
       "        vertical-align: middle;\n",
       "    }\n",
       "\n",
       "    .dataframe tbody tr th {\n",
       "        vertical-align: top;\n",
       "    }\n",
       "\n",
       "    .dataframe thead th {\n",
       "        text-align: right;\n",
       "    }\n",
       "</style>\n",
       "<table border=\"1\" class=\"dataframe\">\n",
       "  <thead>\n",
       "    <tr style=\"text-align: right;\">\n",
       "      <th></th>\n",
       "      <th>total_bill</th>\n",
       "      <th>tip</th>\n",
       "      <th>sex</th>\n",
       "      <th>smoker</th>\n",
       "      <th>day</th>\n",
       "      <th>time</th>\n",
       "      <th>size</th>\n",
       "    </tr>\n",
       "  </thead>\n",
       "  <tbody>\n",
       "    <tr>\n",
       "      <th>0</th>\n",
       "      <td>16.99</td>\n",
       "      <td>1.01</td>\n",
       "      <td>Female</td>\n",
       "      <td>No</td>\n",
       "      <td>Sun</td>\n",
       "      <td>Dinner</td>\n",
       "      <td>2</td>\n",
       "    </tr>\n",
       "    <tr>\n",
       "      <th>1</th>\n",
       "      <td>10.34</td>\n",
       "      <td>1.66</td>\n",
       "      <td>Male</td>\n",
       "      <td>No</td>\n",
       "      <td>Sun</td>\n",
       "      <td>Dinner</td>\n",
       "      <td>3</td>\n",
       "    </tr>\n",
       "    <tr>\n",
       "      <th>2</th>\n",
       "      <td>21.01</td>\n",
       "      <td>3.50</td>\n",
       "      <td>Male</td>\n",
       "      <td>No</td>\n",
       "      <td>Sun</td>\n",
       "      <td>Dinner</td>\n",
       "      <td>3</td>\n",
       "    </tr>\n",
       "    <tr>\n",
       "      <th>3</th>\n",
       "      <td>23.68</td>\n",
       "      <td>3.31</td>\n",
       "      <td>Male</td>\n",
       "      <td>No</td>\n",
       "      <td>Sun</td>\n",
       "      <td>Dinner</td>\n",
       "      <td>2</td>\n",
       "    </tr>\n",
       "    <tr>\n",
       "      <th>4</th>\n",
       "      <td>24.59</td>\n",
       "      <td>3.61</td>\n",
       "      <td>Female</td>\n",
       "      <td>No</td>\n",
       "      <td>Sun</td>\n",
       "      <td>Dinner</td>\n",
       "      <td>4</td>\n",
       "    </tr>\n",
       "  </tbody>\n",
       "</table>\n",
       "</div>"
      ],
      "text/plain": [
       "   total_bill   tip     sex smoker  day    time  size\n",
       "0       16.99  1.01  Female     No  Sun  Dinner     2\n",
       "1       10.34  1.66    Male     No  Sun  Dinner     3\n",
       "2       21.01  3.50    Male     No  Sun  Dinner     3\n",
       "3       23.68  3.31    Male     No  Sun  Dinner     2\n",
       "4       24.59  3.61  Female     No  Sun  Dinner     4"
      ]
     },
     "execution_count": 4,
     "metadata": {},
     "output_type": "execute_result"
    }
   ],
   "source": [
    "tips.head()"
   ]
  },
  {
   "cell_type": "code",
   "execution_count": 13,
   "metadata": {},
   "outputs": [
    {
     "data": {
      "text/plain": [
       "'temp-plot.html'"
      ]
     },
     "execution_count": 13,
     "metadata": {},
     "output_type": "execute_result"
    }
   ],
   "source": [
    "trace=go.Scatter(x=tips['total_bill'],\n",
    "                 y=tips['tip'],\n",
    "                 mode='markers',\n",
    "                 text=tips['sex'],\n",
    "                 marker={'color':'#00a65a','size':14}\n",
    "                 )\n",
    "\n",
    "data=[trace]\n",
    "\n",
    "layout=go.Layout(title='Total Bill v Tip',\n",
    "                 xaxis={'title':'Total Bill'},\n",
    "                 yaxis={'title':'Tip'}\n",
    "                )\n",
    "\n",
    "fig=go.Figure(data,layout)\n",
    "\n",
    "pyo.plot(fig)"
   ]
  },
  {
   "cell_type": "code",
   "execution_count": 18,
   "metadata": {},
   "outputs": [],
   "source": [
    "stocks=pd.read_csv('big_five_stocks.csv')"
   ]
  },
  {
   "cell_type": "code",
   "execution_count": 19,
   "metadata": {},
   "outputs": [
    {
     "data": {
      "text/html": [
       "<div>\n",
       "<style scoped>\n",
       "    .dataframe tbody tr th:only-of-type {\n",
       "        vertical-align: middle;\n",
       "    }\n",
       "\n",
       "    .dataframe tbody tr th {\n",
       "        vertical-align: top;\n",
       "    }\n",
       "\n",
       "    .dataframe thead th {\n",
       "        text-align: right;\n",
       "    }\n",
       "</style>\n",
       "<table border=\"1\" class=\"dataframe\">\n",
       "  <thead>\n",
       "    <tr style=\"text-align: right;\">\n",
       "      <th></th>\n",
       "      <th>Unnamed: 0</th>\n",
       "      <th>name</th>\n",
       "      <th>open</th>\n",
       "      <th>close</th>\n",
       "      <th>high</th>\n",
       "      <th>low</th>\n",
       "      <th>volume</th>\n",
       "    </tr>\n",
       "  </thead>\n",
       "  <tbody>\n",
       "    <tr>\n",
       "      <th>0</th>\n",
       "      <td>1971-02-05</td>\n",
       "      <td>^IXIC</td>\n",
       "      <td>100.00</td>\n",
       "      <td>100.00</td>\n",
       "      <td>100.00</td>\n",
       "      <td>100.00</td>\n",
       "      <td>0.0</td>\n",
       "    </tr>\n",
       "    <tr>\n",
       "      <th>1</th>\n",
       "      <td>1971-02-08</td>\n",
       "      <td>^IXIC</td>\n",
       "      <td>100.84</td>\n",
       "      <td>100.84</td>\n",
       "      <td>100.84</td>\n",
       "      <td>100.84</td>\n",
       "      <td>0.0</td>\n",
       "    </tr>\n",
       "    <tr>\n",
       "      <th>2</th>\n",
       "      <td>1971-02-09</td>\n",
       "      <td>^IXIC</td>\n",
       "      <td>100.76</td>\n",
       "      <td>100.76</td>\n",
       "      <td>100.76</td>\n",
       "      <td>100.76</td>\n",
       "      <td>0.0</td>\n",
       "    </tr>\n",
       "    <tr>\n",
       "      <th>3</th>\n",
       "      <td>1971-02-10</td>\n",
       "      <td>^IXIC</td>\n",
       "      <td>100.69</td>\n",
       "      <td>100.69</td>\n",
       "      <td>100.69</td>\n",
       "      <td>100.69</td>\n",
       "      <td>0.0</td>\n",
       "    </tr>\n",
       "    <tr>\n",
       "      <th>4</th>\n",
       "      <td>1971-02-11</td>\n",
       "      <td>^IXIC</td>\n",
       "      <td>101.45</td>\n",
       "      <td>101.45</td>\n",
       "      <td>101.45</td>\n",
       "      <td>101.45</td>\n",
       "      <td>0.0</td>\n",
       "    </tr>\n",
       "  </tbody>\n",
       "</table>\n",
       "</div>"
      ],
      "text/plain": [
       "   Unnamed: 0   name    open   close    high     low  volume\n",
       "0  1971-02-05  ^IXIC  100.00  100.00  100.00  100.00     0.0\n",
       "1  1971-02-08  ^IXIC  100.84  100.84  100.84  100.84     0.0\n",
       "2  1971-02-09  ^IXIC  100.76  100.76  100.76  100.76     0.0\n",
       "3  1971-02-10  ^IXIC  100.69  100.69  100.69  100.69     0.0\n",
       "4  1971-02-11  ^IXIC  101.45  101.45  101.45  101.45     0.0"
      ]
     },
     "execution_count": 19,
     "metadata": {},
     "output_type": "execute_result"
    }
   ],
   "source": [
    "stocks.head()"
   ]
  },
  {
   "cell_type": "code",
   "execution_count": 20,
   "metadata": {},
   "outputs": [
    {
     "data": {
      "text/plain": [
       "^IXIC    12252\n",
       "AAPL      9760\n",
       "MSFT      8433\n",
       "AMZN      5607\n",
       "GOOGL     3780\n",
       "FB        1828\n",
       "Name: name, dtype: int64"
      ]
     },
     "execution_count": 20,
     "metadata": {},
     "output_type": "execute_result"
    }
   ],
   "source": [
    "stocks['name'].value_counts()"
   ]
  },
  {
   "cell_type": "code",
   "execution_count": 35,
   "metadata": {},
   "outputs": [
    {
     "data": {
      "text/plain": [
       "'temp-plot.html'"
      ]
     },
     "execution_count": 35,
     "metadata": {},
     "output_type": "execute_result"
    }
   ],
   "source": [
    "#Only Apple\n",
    "\n",
    "aapl=stocks[stocks['name']=='AAPL']\n",
    "msft=stocks[stocks['name']=='MSFT']\n",
    "amzn=stocks[stocks['name']=='AMZN']\n",
    "fb=stocks[stocks['name']=='FB']\n",
    "\n",
    "\n",
    "trace=go.Scatter(x=aapl['Unnamed: 0'],y=aapl['open'],\n",
    "                mode='lines',\n",
    "                name='Apple',\n",
    "                marker={'color':'#00a65a'}\n",
    "                )\n",
    "trace1=go.Scatter(x=aapl['Unnamed: 0'],y=msft['open'],\n",
    "                  mode='lines',\n",
    "                  name='Microsoft'\n",
    "                 )\n",
    "trace2=go.Scatter(x=aapl['Unnamed: 0'],y=googl['open'],\n",
    "                  mode='lines',\n",
    "                  name='Google',\n",
    "                  #marker={'color':'#B2FF33'}\n",
    "                 )\n",
    "trace3=go.Scatter(x=aapl['Unnamed: 0'],y=amzn['open'],\n",
    "                  mode='lines',\n",
    "                  name='Amazon',\n",
    "                  #marker={'color':'#5A33FF'}\n",
    "                 )\n",
    "trace4=go.Scatter(x=aapl['Unnamed: 0'],y=fb['open'],\n",
    "                  mode='lines',\n",
    "                  name='Facebook',\n",
    "                  #marker={'color':'#FF33F8'}\n",
    "                 )\n",
    "\n",
    "data=[trace,trace1,trace2,trace3,trace4]\n",
    "\n",
    "layout=go.Layout(title='Apple Stock Price',\n",
    "                 xaxis={'title':'Time'},\n",
    "                 yaxis={'title':'Stock Price'}\n",
    "                )\n",
    "\n",
    "fig=go.Figure(data,layout)\n",
    "\n",
    "pyo.plot(fig)"
   ]
  },
  {
   "cell_type": "code",
   "execution_count": 39,
   "metadata": {},
   "outputs": [
    {
     "data": {
      "text/plain": [
       "'temp-plot.html'"
      ]
     },
     "execution_count": 39,
     "metadata": {},
     "output_type": "execute_result"
    }
   ],
   "source": [
    "#Bubble-plot\n",
    "\n",
    "trace=go.Scatter(x=tips['total_bill'],\n",
    "                 y=tips['tip'],\n",
    "                 mode='markers',\n",
    "                 #color=tips['smoker'],\n",
    "                 marker={'size':tips['size']*10}\n",
    "                 )\n",
    "\n",
    "data=[trace]\n",
    "\n",
    "layout=go.Layout(title='Total Bill v Tip',\n",
    "                 xaxis={'title':'Total Bill'},\n",
    "                 yaxis={'title':'Tip'}\n",
    "                )\n",
    "\n",
    "fig=go.Figure(data,layout)\n",
    "\n",
    "pyo.plot(fig)"
   ]
  },
  {
   "cell_type": "code",
   "execution_count": 43,
   "metadata": {},
   "outputs": [
    {
     "data": {
      "text/plain": [
       "'temp-plot.html'"
      ]
     },
     "execution_count": 43,
     "metadata": {},
     "output_type": "execute_result"
    }
   ],
   "source": [
    "trace=go.Box(x=tips['tip'])\n",
    "#trace1=go.Bar(x=tips[tips['sex']=='Female']['day'],y=tips['total_bill'],name='Female')\n",
    "\n",
    "data=[trace]\n",
    "\n",
    "layout=go.Layout(title='Some Graph')\n",
    "\n",
    "fig=go.Figure(data,layout)\n",
    "\n",
    "pyo.plot(fig)"
   ]
  },
  {
   "cell_type": "code",
   "execution_count": null,
   "metadata": {},
   "outputs": [],
   "source": []
  }
 ],
 "metadata": {
  "kernelspec": {
   "display_name": "Python 3",
   "language": "python",
   "name": "python3"
  },
  "language_info": {
   "codemirror_mode": {
    "name": "ipython",
    "version": 3
   },
   "file_extension": ".py",
   "mimetype": "text/x-python",
   "name": "python",
   "nbconvert_exporter": "python",
   "pygments_lexer": "ipython3",
   "version": "3.7.6"
  }
 },
 "nbformat": 4,
 "nbformat_minor": 4
}
